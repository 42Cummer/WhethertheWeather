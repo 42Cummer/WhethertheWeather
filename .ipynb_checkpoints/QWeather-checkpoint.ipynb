{
 "cells": [
  {
   "cell_type": "code",
   "execution_count": 1,
   "id": "560c8e09-1dba-41b4-b021-d22e6fd84ba8",
   "metadata": {},
   "outputs": [],
   "source": [
    "import torch\n",
    "import torch.nn as nn\n",
    "import torch.nn.functional as F"
   ]
  },
  {
   "cell_type": "code",
   "execution_count": 2,
   "id": "e26bc75d-9b35-4a99-bf32-438c36a0b8e8",
   "metadata": {},
   "outputs": [],
   "source": [
    "import pennylane as qml"
   ]
  },
  {
   "cell_type": "code",
   "execution_count": 3,
   "id": "eaf045ae-a9cd-46ab-a5e8-f45f16141f3f",
   "metadata": {},
   "outputs": [],
   "source": [
    "import numpy as np\n",
    "import pandas as pd\n",
    "import matplotlib.pyplot as plt"
   ]
  },
  {
   "cell_type": "code",
   "execution_count": 4,
   "id": "4f9d06f9-ae10-47ef-991b-21b19947e62d",
   "metadata": {},
   "outputs": [],
   "source": [
    "from torch.utils.data import Dataset, DataLoader"
   ]
  },
  {
   "cell_type": "markdown",
   "id": "77005447-79cb-4659-a4f3-08ff156b6ff7",
   "metadata": {},
   "source": [
    "## Dataset"
   ]
  },
  {
   "cell_type": "code",
   "execution_count": 5,
   "id": "cb38134a-69d2-4af8-a575-85c67d992871",
   "metadata": {},
   "outputs": [],
   "source": [
    "df = pd.read_csv('./jena_climate_2009_2016.csv')"
   ]
  },
  {
   "cell_type": "code",
   "execution_count": 6,
   "id": "d8df8d3c-e9e5-4710-a175-b5362b85b9c4",
   "metadata": {},
   "outputs": [
    {
     "data": {
      "text/html": [
       "<div>\n",
       "<style scoped>\n",
       "    .dataframe tbody tr th:only-of-type {\n",
       "        vertical-align: middle;\n",
       "    }\n",
       "\n",
       "    .dataframe tbody tr th {\n",
       "        vertical-align: top;\n",
       "    }\n",
       "\n",
       "    .dataframe thead th {\n",
       "        text-align: right;\n",
       "    }\n",
       "</style>\n",
       "<table border=\"1\" class=\"dataframe\">\n",
       "  <thead>\n",
       "    <tr style=\"text-align: right;\">\n",
       "      <th></th>\n",
       "      <th>Date Time</th>\n",
       "      <th>p (mbar)</th>\n",
       "      <th>T (degC)</th>\n",
       "      <th>Tpot (K)</th>\n",
       "      <th>Tdew (degC)</th>\n",
       "      <th>rh (%)</th>\n",
       "      <th>VPmax (mbar)</th>\n",
       "      <th>VPact (mbar)</th>\n",
       "      <th>VPdef (mbar)</th>\n",
       "      <th>sh (g/kg)</th>\n",
       "      <th>H2OC (mmol/mol)</th>\n",
       "      <th>rho (g/m**3)</th>\n",
       "      <th>wv (m/s)</th>\n",
       "      <th>max. wv (m/s)</th>\n",
       "      <th>wd (deg)</th>\n",
       "    </tr>\n",
       "  </thead>\n",
       "  <tbody>\n",
       "    <tr>\n",
       "      <th>0</th>\n",
       "      <td>01.01.2009 00:10:00</td>\n",
       "      <td>996.52</td>\n",
       "      <td>-8.02</td>\n",
       "      <td>265.40</td>\n",
       "      <td>-8.90</td>\n",
       "      <td>93.3</td>\n",
       "      <td>3.33</td>\n",
       "      <td>3.11</td>\n",
       "      <td>0.22</td>\n",
       "      <td>1.94</td>\n",
       "      <td>3.12</td>\n",
       "      <td>1307.75</td>\n",
       "      <td>1.03</td>\n",
       "      <td>1.75</td>\n",
       "      <td>152.3</td>\n",
       "    </tr>\n",
       "    <tr>\n",
       "      <th>1</th>\n",
       "      <td>01.01.2009 00:20:00</td>\n",
       "      <td>996.57</td>\n",
       "      <td>-8.41</td>\n",
       "      <td>265.01</td>\n",
       "      <td>-9.28</td>\n",
       "      <td>93.4</td>\n",
       "      <td>3.23</td>\n",
       "      <td>3.02</td>\n",
       "      <td>0.21</td>\n",
       "      <td>1.89</td>\n",
       "      <td>3.03</td>\n",
       "      <td>1309.80</td>\n",
       "      <td>0.72</td>\n",
       "      <td>1.50</td>\n",
       "      <td>136.1</td>\n",
       "    </tr>\n",
       "    <tr>\n",
       "      <th>2</th>\n",
       "      <td>01.01.2009 00:30:00</td>\n",
       "      <td>996.53</td>\n",
       "      <td>-8.51</td>\n",
       "      <td>264.91</td>\n",
       "      <td>-9.31</td>\n",
       "      <td>93.9</td>\n",
       "      <td>3.21</td>\n",
       "      <td>3.01</td>\n",
       "      <td>0.20</td>\n",
       "      <td>1.88</td>\n",
       "      <td>3.02</td>\n",
       "      <td>1310.24</td>\n",
       "      <td>0.19</td>\n",
       "      <td>0.63</td>\n",
       "      <td>171.6</td>\n",
       "    </tr>\n",
       "    <tr>\n",
       "      <th>3</th>\n",
       "      <td>01.01.2009 00:40:00</td>\n",
       "      <td>996.51</td>\n",
       "      <td>-8.31</td>\n",
       "      <td>265.12</td>\n",
       "      <td>-9.07</td>\n",
       "      <td>94.2</td>\n",
       "      <td>3.26</td>\n",
       "      <td>3.07</td>\n",
       "      <td>0.19</td>\n",
       "      <td>1.92</td>\n",
       "      <td>3.08</td>\n",
       "      <td>1309.19</td>\n",
       "      <td>0.34</td>\n",
       "      <td>0.50</td>\n",
       "      <td>198.0</td>\n",
       "    </tr>\n",
       "    <tr>\n",
       "      <th>4</th>\n",
       "      <td>01.01.2009 00:50:00</td>\n",
       "      <td>996.51</td>\n",
       "      <td>-8.27</td>\n",
       "      <td>265.15</td>\n",
       "      <td>-9.04</td>\n",
       "      <td>94.1</td>\n",
       "      <td>3.27</td>\n",
       "      <td>3.08</td>\n",
       "      <td>0.19</td>\n",
       "      <td>1.92</td>\n",
       "      <td>3.09</td>\n",
       "      <td>1309.00</td>\n",
       "      <td>0.32</td>\n",
       "      <td>0.63</td>\n",
       "      <td>214.3</td>\n",
       "    </tr>\n",
       "  </tbody>\n",
       "</table>\n",
       "</div>"
      ],
      "text/plain": [
       "             Date Time  p (mbar)  T (degC)  Tpot (K)  Tdew (degC)  rh (%)  \\\n",
       "0  01.01.2009 00:10:00    996.52     -8.02    265.40        -8.90    93.3   \n",
       "1  01.01.2009 00:20:00    996.57     -8.41    265.01        -9.28    93.4   \n",
       "2  01.01.2009 00:30:00    996.53     -8.51    264.91        -9.31    93.9   \n",
       "3  01.01.2009 00:40:00    996.51     -8.31    265.12        -9.07    94.2   \n",
       "4  01.01.2009 00:50:00    996.51     -8.27    265.15        -9.04    94.1   \n",
       "\n",
       "   VPmax (mbar)  VPact (mbar)  VPdef (mbar)  sh (g/kg)  H2OC (mmol/mol)  \\\n",
       "0          3.33          3.11          0.22       1.94             3.12   \n",
       "1          3.23          3.02          0.21       1.89             3.03   \n",
       "2          3.21          3.01          0.20       1.88             3.02   \n",
       "3          3.26          3.07          0.19       1.92             3.08   \n",
       "4          3.27          3.08          0.19       1.92             3.09   \n",
       "\n",
       "   rho (g/m**3)  wv (m/s)  max. wv (m/s)  wd (deg)  \n",
       "0       1307.75      1.03           1.75     152.3  \n",
       "1       1309.80      0.72           1.50     136.1  \n",
       "2       1310.24      0.19           0.63     171.6  \n",
       "3       1309.19      0.34           0.50     198.0  \n",
       "4       1309.00      0.32           0.63     214.3  "
      ]
     },
     "execution_count": 6,
     "metadata": {},
     "output_type": "execute_result"
    }
   ],
   "source": [
    "df.head()"
   ]
  },
  {
   "cell_type": "code",
   "execution_count": 7,
   "id": "4dc52c69-b66a-4084-a214-4df1627b2cbd",
   "metadata": {},
   "outputs": [],
   "source": [
    "train_fraction = int(0.745 * df.shape[0])"
   ]
  },
  {
   "cell_type": "code",
   "execution_count": 8,
   "id": "6b8ccfb6-f776-4448-bfc1-d63667cc84a7",
   "metadata": {},
   "outputs": [],
   "source": [
    "def Normalize(data, split):\n",
    "    mean = data[:split].mean(axis=0)\n",
    "    std = data[:split].std(axis=0)\n",
    "    return (data - mean) / std # normalize the dataset "
   ]
  },
  {
   "cell_type": "code",
   "execution_count": 9,
   "id": "82244e12-718b-4d30-b71c-e770695536f7",
   "metadata": {},
   "outputs": [
    {
     "data": {
      "text/html": [
       "<div>\n",
       "<style scoped>\n",
       "    .dataframe tbody tr th:only-of-type {\n",
       "        vertical-align: middle;\n",
       "    }\n",
       "\n",
       "    .dataframe tbody tr th {\n",
       "        vertical-align: top;\n",
       "    }\n",
       "\n",
       "    .dataframe thead th {\n",
       "        text-align: right;\n",
       "    }\n",
       "</style>\n",
       "<table border=\"1\" class=\"dataframe\">\n",
       "  <thead>\n",
       "    <tr style=\"text-align: right;\">\n",
       "      <th></th>\n",
       "      <th>p (mbar)</th>\n",
       "      <th>T (degC)</th>\n",
       "      <th>VPmax (mbar)</th>\n",
       "      <th>VPdef (mbar)</th>\n",
       "      <th>sh (g/kg)</th>\n",
       "      <th>rho (g/m**3)</th>\n",
       "      <th>wv (m/s)</th>\n",
       "    </tr>\n",
       "    <tr>\n",
       "      <th>Date Time</th>\n",
       "      <th></th>\n",
       "      <th></th>\n",
       "      <th></th>\n",
       "      <th></th>\n",
       "      <th></th>\n",
       "      <th></th>\n",
       "      <th></th>\n",
       "    </tr>\n",
       "  </thead>\n",
       "  <tbody>\n",
       "    <tr>\n",
       "      <th>01.01.2009 00:10:00</th>\n",
       "      <td>996.52</td>\n",
       "      <td>-8.02</td>\n",
       "      <td>3.33</td>\n",
       "      <td>0.22</td>\n",
       "      <td>1.94</td>\n",
       "      <td>1307.75</td>\n",
       "      <td>1.03</td>\n",
       "    </tr>\n",
       "    <tr>\n",
       "      <th>01.01.2009 00:20:00</th>\n",
       "      <td>996.57</td>\n",
       "      <td>-8.41</td>\n",
       "      <td>3.23</td>\n",
       "      <td>0.21</td>\n",
       "      <td>1.89</td>\n",
       "      <td>1309.80</td>\n",
       "      <td>0.72</td>\n",
       "    </tr>\n",
       "    <tr>\n",
       "      <th>01.01.2009 00:30:00</th>\n",
       "      <td>996.53</td>\n",
       "      <td>-8.51</td>\n",
       "      <td>3.21</td>\n",
       "      <td>0.20</td>\n",
       "      <td>1.88</td>\n",
       "      <td>1310.24</td>\n",
       "      <td>0.19</td>\n",
       "    </tr>\n",
       "    <tr>\n",
       "      <th>01.01.2009 00:40:00</th>\n",
       "      <td>996.51</td>\n",
       "      <td>-8.31</td>\n",
       "      <td>3.26</td>\n",
       "      <td>0.19</td>\n",
       "      <td>1.92</td>\n",
       "      <td>1309.19</td>\n",
       "      <td>0.34</td>\n",
       "    </tr>\n",
       "    <tr>\n",
       "      <th>01.01.2009 00:50:00</th>\n",
       "      <td>996.51</td>\n",
       "      <td>-8.27</td>\n",
       "      <td>3.27</td>\n",
       "      <td>0.19</td>\n",
       "      <td>1.92</td>\n",
       "      <td>1309.00</td>\n",
       "      <td>0.32</td>\n",
       "    </tr>\n",
       "  </tbody>\n",
       "</table>\n",
       "</div>"
      ],
      "text/plain": [
       "                     p (mbar)  T (degC)  VPmax (mbar)  VPdef (mbar)  \\\n",
       "Date Time                                                             \n",
       "01.01.2009 00:10:00    996.52     -8.02          3.33          0.22   \n",
       "01.01.2009 00:20:00    996.57     -8.41          3.23          0.21   \n",
       "01.01.2009 00:30:00    996.53     -8.51          3.21          0.20   \n",
       "01.01.2009 00:40:00    996.51     -8.31          3.26          0.19   \n",
       "01.01.2009 00:50:00    996.51     -8.27          3.27          0.19   \n",
       "\n",
       "                     sh (g/kg)  rho (g/m**3)  wv (m/s)  \n",
       "Date Time                                               \n",
       "01.01.2009 00:10:00       1.94       1307.75      1.03  \n",
       "01.01.2009 00:20:00       1.89       1309.80      0.72  \n",
       "01.01.2009 00:30:00       1.88       1310.24      0.19  \n",
       "01.01.2009 00:40:00       1.92       1309.19      0.34  \n",
       "01.01.2009 00:50:00       1.92       1309.00      0.32  "
      ]
     },
     "execution_count": 9,
     "metadata": {},
     "output_type": "execute_result"
    }
   ],
   "source": [
    "features = df[[df.columns[i+1] for i in [0, 1, 5, 7, 8, 10, 11]]]\n",
    "features.index = df[\"Date Time\"]\n",
    "features.head()"
   ]
  },
  {
   "cell_type": "code",
   "execution_count": 10,
   "id": "e8e3b279-9c98-4402-b581-a9563f665d9e",
   "metadata": {},
   "outputs": [
    {
     "data": {
      "text/html": [
       "<div>\n",
       "<style scoped>\n",
       "    .dataframe tbody tr th:only-of-type {\n",
       "        vertical-align: middle;\n",
       "    }\n",
       "\n",
       "    .dataframe tbody tr th {\n",
       "        vertical-align: top;\n",
       "    }\n",
       "\n",
       "    .dataframe thead th {\n",
       "        text-align: right;\n",
       "    }\n",
       "</style>\n",
       "<table border=\"1\" class=\"dataframe\">\n",
       "  <thead>\n",
       "    <tr style=\"text-align: right;\">\n",
       "      <th></th>\n",
       "      <th>0</th>\n",
       "      <th>1</th>\n",
       "      <th>2</th>\n",
       "      <th>3</th>\n",
       "      <th>4</th>\n",
       "      <th>5</th>\n",
       "      <th>6</th>\n",
       "    </tr>\n",
       "  </thead>\n",
       "  <tbody>\n",
       "    <tr>\n",
       "      <th>0</th>\n",
       "      <td>0.955617</td>\n",
       "      <td>-2.018504</td>\n",
       "      <td>-1.327546</td>\n",
       "      <td>-0.780846</td>\n",
       "      <td>-1.517837</td>\n",
       "      <td>2.257331</td>\n",
       "      <td>-0.724686</td>\n",
       "    </tr>\n",
       "    <tr>\n",
       "      <th>1</th>\n",
       "      <td>0.961724</td>\n",
       "      <td>-2.064146</td>\n",
       "      <td>-1.340719</td>\n",
       "      <td>-0.782953</td>\n",
       "      <td>-1.536565</td>\n",
       "      <td>2.308011</td>\n",
       "      <td>-0.927967</td>\n",
       "    </tr>\n",
       "    <tr>\n",
       "      <th>2</th>\n",
       "      <td>0.956838</td>\n",
       "      <td>-2.075849</td>\n",
       "      <td>-1.343353</td>\n",
       "      <td>-0.785060</td>\n",
       "      <td>-1.540311</td>\n",
       "      <td>2.318888</td>\n",
       "      <td>-1.275511</td>\n",
       "    </tr>\n",
       "    <tr>\n",
       "      <th>3</th>\n",
       "      <td>0.954395</td>\n",
       "      <td>-2.052443</td>\n",
       "      <td>-1.336767</td>\n",
       "      <td>-0.787167</td>\n",
       "      <td>-1.525328</td>\n",
       "      <td>2.292930</td>\n",
       "      <td>-1.177150</td>\n",
       "    </tr>\n",
       "    <tr>\n",
       "      <th>4</th>\n",
       "      <td>0.954395</td>\n",
       "      <td>-2.047762</td>\n",
       "      <td>-1.335450</td>\n",
       "      <td>-0.787167</td>\n",
       "      <td>-1.525328</td>\n",
       "      <td>2.288233</td>\n",
       "      <td>-1.190265</td>\n",
       "    </tr>\n",
       "  </tbody>\n",
       "</table>\n",
       "</div>"
      ],
      "text/plain": [
       "          0         1         2         3         4         5         6\n",
       "0  0.955617 -2.018504 -1.327546 -0.780846 -1.517837  2.257331 -0.724686\n",
       "1  0.961724 -2.064146 -1.340719 -0.782953 -1.536565  2.308011 -0.927967\n",
       "2  0.956838 -2.075849 -1.343353 -0.785060 -1.540311  2.318888 -1.275511\n",
       "3  0.954395 -2.052443 -1.336767 -0.787167 -1.525328  2.292930 -1.177150\n",
       "4  0.954395 -2.047762 -1.335450 -0.787167 -1.525328  2.288233 -1.190265"
      ]
     },
     "execution_count": 10,
     "metadata": {},
     "output_type": "execute_result"
    }
   ],
   "source": [
    "features = Normalize(features.values, train_fraction)\n",
    "features = pd.DataFrame(features)\n",
    "features.head()"
   ]
  },
  {
   "cell_type": "code",
   "execution_count": 11,
   "id": "9584b710-71ce-44e1-99f1-7368b09a596d",
   "metadata": {},
   "outputs": [],
   "source": [
    "X_train = features.loc[:train_fraction-1]\n",
    "X_valid = features.loc[train_fraction:]\n",
    "\n",
    "X_train = X_train[range(7)].values\n",
    "y_train = np.array(features.iloc[792: 792 + train_fraction][[1]])"
   ]
  },
  {
   "cell_type": "markdown",
   "id": "d91ac0a0-8e24-41c6-bf8b-a88922dcb8b1",
   "metadata": {},
   "source": [
    "### Validation Dataset"
   ]
  },
  {
   "cell_type": "code",
   "execution_count": 12,
   "id": "01b01fc7-afb8-4057-b56c-04e3298f5ecb",
   "metadata": {},
   "outputs": [],
   "source": [
    "valid_end = len(X_valid) - 792\n",
    "valid_start = train_fraction + 792"
   ]
  },
  {
   "cell_type": "code",
   "execution_count": 13,
   "id": "5755ee4e-ab7b-4d61-873a-b997f50d4db7",
   "metadata": {},
   "outputs": [],
   "source": [
    "X_valid = X_valid.iloc[:valid_end][range(7)].values\n",
    "y_valid = np.array(features.iloc[valid_start:][[1]])"
   ]
  },
  {
   "cell_type": "markdown",
   "id": "f8a9fe4f-8276-425c-860b-14c9d817a96a",
   "metadata": {},
   "source": [
    "### PyTorch Dataset"
   ]
  },
  {
   "cell_type": "code",
   "execution_count": 14,
   "id": "07975c4e-5140-4d03-8fdf-6e93349aefc6",
   "metadata": {},
   "outputs": [],
   "source": [
    "class TimeseriesDataset(Dataset):\n",
    "    def __init__(self, X, y, sequence_length: int=240, sampling_rate: int=6):\n",
    "        self.X = torch.Tensor(X)\n",
    "        self.y = torch.Tensor(y)\n",
    "        self.sequence_length = sequence_length\n",
    "        self.sampling_rate = sampling_rate\n",
    "        self.indices = [i for i in range(0, self.X.shape[0] - self.sequence_length, self.sampling_rate)]\n",
    "\n",
    "    def __len__(self) -> int:\n",
    "        return len(self.indices)\n",
    "\n",
    "    def __getitem__(self, idx: int):\n",
    "        start_idx = self.indices[idx]\n",
    "        end_idx = start_idx + self.sequence_length\n",
    "        return self.X[start_idx:end_idx], self.y[end_idx-1]"
   ]
  },
  {
   "cell_type": "code",
   "execution_count": 15,
   "id": "8dae3e47-a862-4bea-9eeb-f2f2aa4d62af",
   "metadata": {},
   "outputs": [],
   "source": [
    "WeatherDataset = TimeseriesDataset(X_train, y_train)"
   ]
  },
  {
   "cell_type": "code",
   "execution_count": 16,
   "id": "2e80329d-434f-4330-b1da-d46432cde50e",
   "metadata": {},
   "outputs": [
    {
     "name": "stdout",
     "output_type": "stream",
     "text": [
      "Length of dataset, 52179\n"
     ]
    }
   ],
   "source": [
    "print(f\"Length of dataset, {len(WeatherDataset)}\")"
   ]
  },
  {
   "cell_type": "code",
   "execution_count": 17,
   "id": "1cebb82b-5001-4e1c-b7b6-18662309bca1",
   "metadata": {},
   "outputs": [],
   "source": [
    "WeatherLoader = DataLoader(WeatherDataset, batch_size=256, shuffle=False)"
   ]
  },
  {
   "cell_type": "code",
   "execution_count": 18,
   "id": "03621793-bbd9-4781-93eb-6439af978778",
   "metadata": {},
   "outputs": [
    {
     "name": "stdout",
     "output_type": "stream",
     "text": [
      "torch.Size([256, 240, 7]) torch.Size([256, 1])\n"
     ]
    }
   ],
   "source": [
    "for batch in WeatherLoader:\n",
    "    X_batch, y_batch = batch\n",
    "    print(X_batch.shape, y_batch.shape)\n",
    "    break"
   ]
  },
  {
   "cell_type": "code",
   "execution_count": 19,
   "id": "3cd3c040-13a5-4df0-a0c4-0502ed958172",
   "metadata": {},
   "outputs": [],
   "source": [
    "ValidDataset = TimeseriesDataset(X_valid, y_valid)"
   ]
  },
  {
   "cell_type": "code",
   "execution_count": 20,
   "id": "abc1df14-395f-4fcf-8dc9-1cad9abb65c5",
   "metadata": {},
   "outputs": [
    {
     "name": "stdout",
     "output_type": "stream",
     "text": [
      "Length of validation dataset, 17702\n"
     ]
    }
   ],
   "source": [
    "print(f\"Length of validation dataset, {len(ValidDataset)}\")"
   ]
  },
  {
   "cell_type": "code",
   "execution_count": 21,
   "id": "01513f44-9a3c-4d57-a60f-2228e916bffb",
   "metadata": {},
   "outputs": [],
   "source": [
    "ValidLoader = DataLoader(ValidDataset, batch_size=256, shuffle=False)"
   ]
  },
  {
   "cell_type": "markdown",
   "id": "74022d27-764f-461a-ba46-7b15f7bae62a",
   "metadata": {},
   "source": [
    "## QuLTSF Model\n"
   ]
  },
  {
   "cell_type": "code",
   "execution_count": 24,
   "id": "f764d2e8-0a9c-4441-81e2-a03492740cbb",
   "metadata": {},
   "outputs": [],
   "source": [
    "from torch.optim import Adam, lr_scheduler"
   ]
  },
  {
   "cell_type": "code",
   "execution_count": 22,
   "id": "7166c7ac-ed2c-42ee-9980-fa433ca705cb",
   "metadata": {},
   "outputs": [],
   "source": [
    "class QuLTSF(nn.Module):\n",
    "    def __init__(\n",
    "        self,\n",
    "        lookback_window_size,\n",
    "        forecast_window_size,\n",
    "        n_qubits: int,\n",
    "        n_layers: int,\n",
    "    ):\n",
    "        super(QuLTSF, self).__init__()\n",
    "        self.lookback_window_size = lookback_window_size\n",
    "        self.forecast_window_size = forecast_window_size\n",
    "        self.dev = qml.device('default.qubit', wires=n_qubits)\n",
    "\n",
    "        @qml.qnode(self.dev, interface='torch', diff_method='best')\n",
    "        def PQC(inputs, weights):\n",
    "            qml.AmplitudeEmbedding(features=inputs, wires=range(n_qubits), normalize=True)\n",
    "            qml.StronglyEntanglingLayers(weights=weights, wires=range(n_qubits))\n",
    "            return [qml.expval(qml.PauliZ(i)) for i in range(n_qubits)]\n",
    "\n",
    "        self.qfunc = PQC\n",
    "        weight_shapes = {\"weights\" : (n_layers, n_qubits, 3)}\n",
    "        self.input_layer = nn.Linear(lookback_window_size, 2 ** n_qubits)\n",
    "        self.q_layer = qml.qnn.TorchLayer(self.qfunc, weight_shapes)\n",
    "        self.output_layer = nn.Linear(n_qubits, forecast_window_size)\n",
    "\n",
    "    def forward(self, batch_input):\n",
    "        x = batch_input.permute(0, 2, 1)\n",
    "        x = F.relu(\n",
    "            self.input_layer(x)\n",
    "        )\n",
    "        x = self.q_layer(x)\n",
    "        x = F.relu(\n",
    "            self.output_layer(\n",
    "                self.output_layer(x).squeeze()\n",
    "            )\n",
    "        )\n",
    "        return x"
   ]
  },
  {
   "cell_type": "code",
   "execution_count": 47,
   "id": "d8e9e83f-83e4-473c-9a06-face6bf06291",
   "metadata": {},
   "outputs": [],
   "source": [
    "Middlefield = QuLTSF(\n",
    "    lookback_window_size = 240,\n",
    "    forecast_window_size = 1,\n",
    "    n_qubits = 7,\n",
    "    n_layers = 2\n",
    ")"
   ]
  },
  {
   "cell_type": "markdown",
   "id": "434fcfa8-8c16-4b3e-afea-428623901b3e",
   "metadata": {},
   "source": [
    "## Training the Model"
   ]
  },
  {
   "cell_type": "code",
   "execution_count": 48,
   "id": "cdc027c4-6e76-4dd5-9f0c-0c905b753d37",
   "metadata": {},
   "outputs": [],
   "source": [
    "class EarlyStopping:\n",
    "    def __init__(self):\n",
    "        self.patience = 3\n",
    "        self.mindelta = 1e-4\n",
    "        self.best_loss = float('inf')\n",
    "        self.counter = 0\n",
    "\n",
    "    def __call__(self, val_loss):\n",
    "        if val_loss < self.best_loss:\n",
    "            self.best_loss = val_loss\n",
    "            self.counter = 0\n",
    "        else:\n",
    "            self.counter += 1\n",
    "\n",
    "        return self.counter >= self.patience"
   ]
  },
  {
   "cell_type": "code",
   "execution_count": 49,
   "id": "ae4a1250-ffca-4ccc-ae8c-a84dc3887706",
   "metadata": {},
   "outputs": [],
   "source": [
    "optimizer = Adam(Middlefield.parameters(), lr=1e-4)\n",
    "scheduler = lr_scheduler.ReduceLROnPlateau(optimizer, patience=3)\n",
    "loss_fn = nn.MSELoss()\n",
    "early_stopping = EarlyStopping()"
   ]
  },
  {
   "cell_type": "code",
   "execution_count": 51,
   "id": "6017cc2b-daf0-4d0c-b31e-6d25dbf31d5c",
   "metadata": {},
   "outputs": [],
   "source": [
    "EPOCHS = 50\n",
    "\n",
    "TRAIN_LOSS_LIST = []\n",
    "VAL_LOSS_LIST = []"
   ]
  },
  {
   "cell_type": "code",
   "execution_count": 52,
   "id": "1b768a74-c6d1-4f0a-9d3c-461f1df2ebbc",
   "metadata": {},
   "outputs": [
    {
     "name": "stdout",
     "output_type": "stream",
     "text": [
      "Epoch [5/50], Train Loss: 0.8685, Val Loss: 0.7868, LR: 0.000100\n",
      "Epoch [10/50], Train Loss: 0.8105, Val Loss: 0.7214, LR: 0.000100\n",
      "Epoch [15/50], Train Loss: 0.7653, Val Loss: 0.6652, LR: 0.000100\n",
      "Epoch [20/50], Train Loss: 0.7370, Val Loss: 0.6263, LR: 0.000100\n",
      "Epoch [25/50], Train Loss: 0.7196, Val Loss: 0.6021, LR: 0.000100\n",
      "Epoch [30/50], Train Loss: 0.7079, Val Loss: 0.5860, LR: 0.000100\n",
      "Epoch [35/50], Train Loss: 0.6996, Val Loss: 0.5749, LR: 0.000100\n",
      "Epoch [40/50], Train Loss: 0.6931, Val Loss: 0.5665, LR: 0.000100\n",
      "Epoch [45/50], Train Loss: 0.6882, Val Loss: 0.5601, LR: 0.000100\n",
      "Epoch [50/50], Train Loss: 0.6841, Val Loss: 0.5547, LR: 0.000100\n"
     ]
    }
   ],
   "source": [
    "for epoch in range(EPOCHS):\n",
    "    train_Loss = 0.0\n",
    "    \n",
    "    for step, (X_batch, y_batch) in enumerate(WeatherLoader):\n",
    "        logits = Middlefield(X_batch)\n",
    "        loss = loss_fn(logits, y_batch)\n",
    "        Middlefield.zero_grad()\n",
    "        loss.backward()\n",
    "        optimizer.step()\n",
    "        train_Loss += loss.item()\n",
    "\n",
    "    train_Loss /= (step+1)\n",
    "    TRAIN_LOSS_LIST.append(train_Loss)\n",
    "    Middlefield.eval()\n",
    "\n",
    "    val_Loss = 0.0\n",
    "    with torch.no_grad():\n",
    "        for step, (X_batch, y_batch) in enumerate(ValidLoader):\n",
    "            logits = Middlefield(X_batch)\n",
    "            loss = loss_fn(logits, y_batch)\n",
    "            val_Loss += loss.item()\n",
    "\n",
    "    val_Loss /= (step + 1)\n",
    "    VAL_LOSS_LIST.append(val_Loss)\n",
    "    scheduler.step(val_Loss)\n",
    "\n",
    "    if not ((epoch+1) % 5):\n",
    "        print(f\"Epoch [{epoch+1}/{EPOCHS}], Train Loss: {train_Loss:.4f}, Val Loss: {val_Loss:.4f}, LR: {optimizer.param_groups[0]['lr']:.6f}\")\n",
    "\n",
    "    if early_stopping(val_Loss):\n",
    "        print(\"Early Stopping: Training Ended\")"
   ]
  },
  {
   "cell_type": "markdown",
   "id": "e639ae9d-3d62-4565-ad3c-82316b85f4f1",
   "metadata": {},
   "source": [
    "Plot a graph of loss."
   ]
  },
  {
   "cell_type": "code",
   "execution_count": 53,
   "id": "8a3b0c31-91b2-4592-93be-db5445a6af2c",
   "metadata": {},
   "outputs": [
    {
     "data": {
      "text/plain": [
       "<function matplotlib.pyplot.show(close=None, block=None)>"
      ]
     },
     "execution_count": 53,
     "metadata": {},
     "output_type": "execute_result"
    },
    {
     "data": {
      "image/png": "[encoded data removed]",
      "text/plain": [
       "<Figure size 640x480 with 1 Axes>"
      ]
     },
     "metadata": {},
     "output_type": "display_data"
    }
   ],
   "source": [
    "plt.figure()\n",
    "plt.plot(range(len(TRAIN_LOSS_LIST)), TRAIN_LOSS_LIST, \"b\", label=\"Training Loss\")\n",
    "plt.plot(range(len(VAL_LOSS_LIST)), VAL_LOSS_LIST, \"r\", label=\"Validation Loss\")\n",
    "plt.title(\"Training and Validation Loss\")\n",
    "plt.xlabel(\"Epochs\")\n",
    "plt.ylabel(\"Loss\")\n",
    "plt.legend()\n",
    "plt.show"
   ]
  },
  {
   "cell_type": "code",
   "execution_count": 54,
   "id": "93cfe535-5202-426c-8fb7-b8a48026ffd2",
   "metadata": {},
   "outputs": [],
   "source": [
    "def show_plot(plot_data, delta, title):\n",
    "    labels = [\"History\", \"True Future\", \"Model Prediction\"]\n",
    "    marker = [\".-\", \"rx\", \"go\"]\n",
    "    time_steps = list(range(-(plot_data[0].shape[0]), 0))\n",
    "    if delta: future = delta\n",
    "    else: future = 0\n",
    "\n",
    "    plt.title(title)\n",
    "    for i, val in enumerate(plot_data):\n",
    "        if i: plt.plot(future, plot_data[i], marker[i], markersize=10, label=labels[i])\n",
    "        else: plt.plot(time_steps, plot_data[i].flatten(), marker[i], label=labels[i])\n",
    "    plt.legend()\n",
    "    plt.xlim([time_steps[0], (future + 5) * 2])\n",
    "    plt.xlabel(\"Time-Step\")\n",
    "    plt.show()\n",
    "    return"
   ]
  },
  {
   "cell_type": "code",
   "execution_count": 58,
   "id": "d2a9bb63-bcda-4a16-96b4-439063ee6f4a",
   "metadata": {},
   "outputs": [
    {
     "data": {
      "image/png": "[encoded data removed]",
      "text/plain": [
       "<Figure size 640x480 with 1 Axes>"
      ]
     },
     "metadata": {},
     "output_type": "display_data"
    }
   ],
   "source": [
    "examples = 1\n",
    "\n",
    "for X_batch, y_batch in ValidLoader:\n",
    "    Middlefield.eval()\n",
    "    with torch.no_grad():\n",
    "        predictions = Middlefield(X_batch)\n",
    "    \n",
    "    show_plot(\n",
    "        [X_batch[0][:, 1].numpy(), y_batch[0].numpy(), predictions[0]],\n",
    "        delta = 12,\n",
    "        title = \"Single Step Prediction\"\n",
    "    )\n",
    "\n",
    "    if np.random.random() >= 0.5:\n",
    "        examples -= 1\n",
    "\n",
    "    if not examples: break"
   ]
  },
  {
   "cell_type": "code",
   "execution_count": null,
   "id": "3bbada4b-c4ac-4389-860c-eefd3a2655c2",
   "metadata": {},
   "outputs": [],
   "source": []
  }
 ],
 "metadata": {
  "kernelspec": {
   "display_name": "Python 3 (ipykernel)",
   "language": "python",
   "name": "python3"
  },
  "language_info": {
   "codemirror_mode": {
    "name": "ipython",
    "version": 3
   },
   "file_extension": ".py",
   "mimetype": "text/x-python",
   "name": "python",
   "nbconvert_exporter": "python",
   "pygments_lexer": "ipython3",
   "version": "3.10.14"
  }
 },
 "nbformat": 4,
 "nbformat_minor": 5
}
