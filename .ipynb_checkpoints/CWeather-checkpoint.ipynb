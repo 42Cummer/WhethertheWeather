{
 "cells": [
  {
   "cell_type": "markdown",
   "id": "9d2c3d14-0c36-4e6c-b0d7-0c6858e413cd",
   "metadata": {},
   "source": [
    "# Classical LSTM-Based model for Weather Prediction on Jena Climate Dataset"
   ]
  },
  {
   "cell_type": "code",
   "execution_count": 1,
   "id": "560c8e09-1dba-41b4-b021-d22e6fd84ba8",
   "metadata": {},
   "outputs": [],
   "source": [
    "import torch\n",
    "import torch.nn as nn\n",
    "import torch.nn.functional as F"
   ]
  },
  {
   "cell_type": "code",
   "execution_count": 2,
   "id": "eaf045ae-a9cd-46ab-a5e8-f45f16141f3f",
   "metadata": {},
   "outputs": [],
   "source": [
    "import numpy as np\n",
    "import pandas as pd\n",
    "import matplotlib.pyplot as plt"
   ]
  },
  {
   "cell_type": "code",
   "execution_count": 3,
   "id": "4f9d06f9-ae10-47ef-991b-21b19947e62d",
   "metadata": {},
   "outputs": [],
   "source": [
    "from torch.utils.data import Dataset, DataLoader"
   ]
  },
  {
   "cell_type": "code",
   "execution_count": 4,
   "id": "9fe212c6-cbc5-4e11-9934-ab94e7034681",
   "metadata": {},
   "outputs": [],
   "source": [
    "from torch.optim import Adam, AdamW, lr_scheduler"
   ]
  },
  {
   "cell_type": "markdown",
   "id": "77005447-79cb-4659-a4f3-08ff156b6ff7",
   "metadata": {},
   "source": [
    "## Dataset"
   ]
  },
  {
   "cell_type": "code",
   "execution_count": 5,
   "id": "cb38134a-69d2-4af8-a575-85c67d992871",
   "metadata": {},
   "outputs": [],
   "source": [
    "df = pd.read_csv('./jena_climate_2009_2016.csv')"
   ]
  },
  {
   "cell_type": "code",
   "execution_count": 6,
   "id": "d8df8d3c-e9e5-4710-a175-b5362b85b9c4",
   "metadata": {},
   "outputs": [
    {
     "data": {
      "text/html": [
       "<div>\n",
       "<style scoped>\n",
       "    .dataframe tbody tr th:only-of-type {\n",
       "        vertical-align: middle;\n",
       "    }\n",
       "\n",
       "    .dataframe tbody tr th {\n",
       "        vertical-align: top;\n",
       "    }\n",
       "\n",
       "    .dataframe thead th {\n",
       "        text-align: right;\n",
       "    }\n",
       "</style>\n",
       "<table border=\"1\" class=\"dataframe\">\n",
       "  <thead>\n",
       "    <tr style=\"text-align: right;\">\n",
       "      <th></th>\n",
       "      <th>Date Time</th>\n",
       "      <th>p (mbar)</th>\n",
       "      <th>T (degC)</th>\n",
       "      <th>Tpot (K)</th>\n",
       "      <th>Tdew (degC)</th>\n",
       "      <th>rh (%)</th>\n",
       "      <th>VPmax (mbar)</th>\n",
       "      <th>VPact (mbar)</th>\n",
       "      <th>VPdef (mbar)</th>\n",
       "      <th>sh (g/kg)</th>\n",
       "      <th>H2OC (mmol/mol)</th>\n",
       "      <th>rho (g/m**3)</th>\n",
       "      <th>wv (m/s)</th>\n",
       "      <th>max. wv (m/s)</th>\n",
       "      <th>wd (deg)</th>\n",
       "    </tr>\n",
       "  </thead>\n",
       "  <tbody>\n",
       "    <tr>\n",
       "      <th>0</th>\n",
       "      <td>01.01.2009 00:10:00</td>\n",
       "      <td>996.52</td>\n",
       "      <td>-8.02</td>\n",
       "      <td>265.40</td>\n",
       "      <td>-8.90</td>\n",
       "      <td>93.3</td>\n",
       "      <td>3.33</td>\n",
       "      <td>3.11</td>\n",
       "      <td>0.22</td>\n",
       "      <td>1.94</td>\n",
       "      <td>3.12</td>\n",
       "      <td>1307.75</td>\n",
       "      <td>1.03</td>\n",
       "      <td>1.75</td>\n",
       "      <td>152.3</td>\n",
       "    </tr>\n",
       "    <tr>\n",
       "      <th>1</th>\n",
       "      <td>01.01.2009 00:20:00</td>\n",
       "      <td>996.57</td>\n",
       "      <td>-8.41</td>\n",
       "      <td>265.01</td>\n",
       "      <td>-9.28</td>\n",
       "      <td>93.4</td>\n",
       "      <td>3.23</td>\n",
       "      <td>3.02</td>\n",
       "      <td>0.21</td>\n",
       "      <td>1.89</td>\n",
       "      <td>3.03</td>\n",
       "      <td>1309.80</td>\n",
       "      <td>0.72</td>\n",
       "      <td>1.50</td>\n",
       "      <td>136.1</td>\n",
       "    </tr>\n",
       "    <tr>\n",
       "      <th>2</th>\n",
       "      <td>01.01.2009 00:30:00</td>\n",
       "      <td>996.53</td>\n",
       "      <td>-8.51</td>\n",
       "      <td>264.91</td>\n",
       "      <td>-9.31</td>\n",
       "      <td>93.9</td>\n",
       "      <td>3.21</td>\n",
       "      <td>3.01</td>\n",
       "      <td>0.20</td>\n",
       "      <td>1.88</td>\n",
       "      <td>3.02</td>\n",
       "      <td>1310.24</td>\n",
       "      <td>0.19</td>\n",
       "      <td>0.63</td>\n",
       "      <td>171.6</td>\n",
       "    </tr>\n",
       "    <tr>\n",
       "      <th>3</th>\n",
       "      <td>01.01.2009 00:40:00</td>\n",
       "      <td>996.51</td>\n",
       "      <td>-8.31</td>\n",
       "      <td>265.12</td>\n",
       "      <td>-9.07</td>\n",
       "      <td>94.2</td>\n",
       "      <td>3.26</td>\n",
       "      <td>3.07</td>\n",
       "      <td>0.19</td>\n",
       "      <td>1.92</td>\n",
       "      <td>3.08</td>\n",
       "      <td>1309.19</td>\n",
       "      <td>0.34</td>\n",
       "      <td>0.50</td>\n",
       "      <td>198.0</td>\n",
       "    </tr>\n",
       "    <tr>\n",
       "      <th>4</th>\n",
       "      <td>01.01.2009 00:50:00</td>\n",
       "      <td>996.51</td>\n",
       "      <td>-8.27</td>\n",
       "      <td>265.15</td>\n",
       "      <td>-9.04</td>\n",
       "      <td>94.1</td>\n",
       "      <td>3.27</td>\n",
       "      <td>3.08</td>\n",
       "      <td>0.19</td>\n",
       "      <td>1.92</td>\n",
       "      <td>3.09</td>\n",
       "      <td>1309.00</td>\n",
       "      <td>0.32</td>\n",
       "      <td>0.63</td>\n",
       "      <td>214.3</td>\n",
       "    </tr>\n",
       "  </tbody>\n",
       "</table>\n",
       "</div>"
      ],
      "text/plain": [
       "             Date Time  p (mbar)  T (degC)  Tpot (K)  Tdew (degC)  rh (%)  \\\n",
       "0  01.01.2009 00:10:00    996.52     -8.02    265.40        -8.90    93.3   \n",
       "1  01.01.2009 00:20:00    996.57     -8.41    265.01        -9.28    93.4   \n",
       "2  01.01.2009 00:30:00    996.53     -8.51    264.91        -9.31    93.9   \n",
       "3  01.01.2009 00:40:00    996.51     -8.31    265.12        -9.07    94.2   \n",
       "4  01.01.2009 00:50:00    996.51     -8.27    265.15        -9.04    94.1   \n",
       "\n",
       "   VPmax (mbar)  VPact (mbar)  VPdef (mbar)  sh (g/kg)  H2OC (mmol/mol)  \\\n",
       "0          3.33          3.11          0.22       1.94             3.12   \n",
       "1          3.23          3.02          0.21       1.89             3.03   \n",
       "2          3.21          3.01          0.20       1.88             3.02   \n",
       "3          3.26          3.07          0.19       1.92             3.08   \n",
       "4          3.27          3.08          0.19       1.92             3.09   \n",
       "\n",
       "   rho (g/m**3)  wv (m/s)  max. wv (m/s)  wd (deg)  \n",
       "0       1307.75      1.03           1.75     152.3  \n",
       "1       1309.80      0.72           1.50     136.1  \n",
       "2       1310.24      0.19           0.63     171.6  \n",
       "3       1309.19      0.34           0.50     198.0  \n",
       "4       1309.00      0.32           0.63     214.3  "
      ]
     },
     "execution_count": 6,
     "metadata": {},
     "output_type": "execute_result"
    }
   ],
   "source": [
    "df.head()"
   ]
  },
  {
   "cell_type": "code",
   "execution_count": 7,
   "id": "4dc52c69-b66a-4084-a214-4df1627b2cbd",
   "metadata": {},
   "outputs": [],
   "source": [
    "train_fraction = int(0.72 * df.shape[0])"
   ]
  },
  {
   "cell_type": "code",
   "execution_count": 8,
   "id": "6b8ccfb6-f776-4448-bfc1-d63667cc84a7",
   "metadata": {},
   "outputs": [],
   "source": [
    "def Normalize(data, split):\n",
    "    mean = data[:split].mean(axis=0)\n",
    "    std = data[:split].std(axis=0)\n",
    "    return (data - mean) / std # normalize the dataset "
   ]
  },
  {
   "cell_type": "code",
   "execution_count": 9,
   "id": "82244e12-718b-4d30-b71c-e770695536f7",
   "metadata": {},
   "outputs": [
    {
     "data": {
      "text/html": [
       "<div>\n",
       "<style scoped>\n",
       "    .dataframe tbody tr th:only-of-type {\n",
       "        vertical-align: middle;\n",
       "    }\n",
       "\n",
       "    .dataframe tbody tr th {\n",
       "        vertical-align: top;\n",
       "    }\n",
       "\n",
       "    .dataframe thead th {\n",
       "        text-align: right;\n",
       "    }\n",
       "</style>\n",
       "<table border=\"1\" class=\"dataframe\">\n",
       "  <thead>\n",
       "    <tr style=\"text-align: right;\">\n",
       "      <th></th>\n",
       "      <th>p (mbar)</th>\n",
       "      <th>T (degC)</th>\n",
       "      <th>VPmax (mbar)</th>\n",
       "      <th>VPdef (mbar)</th>\n",
       "      <th>sh (g/kg)</th>\n",
       "      <th>rho (g/m**3)</th>\n",
       "      <th>wv (m/s)</th>\n",
       "    </tr>\n",
       "    <tr>\n",
       "      <th>Date Time</th>\n",
       "      <th></th>\n",
       "      <th></th>\n",
       "      <th></th>\n",
       "      <th></th>\n",
       "      <th></th>\n",
       "      <th></th>\n",
       "      <th></th>\n",
       "    </tr>\n",
       "  </thead>\n",
       "  <tbody>\n",
       "    <tr>\n",
       "      <th>01.01.2009 00:10:00</th>\n",
       "      <td>996.52</td>\n",
       "      <td>-8.02</td>\n",
       "      <td>3.33</td>\n",
       "      <td>0.22</td>\n",
       "      <td>1.94</td>\n",
       "      <td>1307.75</td>\n",
       "      <td>1.03</td>\n",
       "    </tr>\n",
       "    <tr>\n",
       "      <th>01.01.2009 00:20:00</th>\n",
       "      <td>996.57</td>\n",
       "      <td>-8.41</td>\n",
       "      <td>3.23</td>\n",
       "      <td>0.21</td>\n",
       "      <td>1.89</td>\n",
       "      <td>1309.80</td>\n",
       "      <td>0.72</td>\n",
       "    </tr>\n",
       "    <tr>\n",
       "      <th>01.01.2009 00:30:00</th>\n",
       "      <td>996.53</td>\n",
       "      <td>-8.51</td>\n",
       "      <td>3.21</td>\n",
       "      <td>0.20</td>\n",
       "      <td>1.88</td>\n",
       "      <td>1310.24</td>\n",
       "      <td>0.19</td>\n",
       "    </tr>\n",
       "    <tr>\n",
       "      <th>01.01.2009 00:40:00</th>\n",
       "      <td>996.51</td>\n",
       "      <td>-8.31</td>\n",
       "      <td>3.26</td>\n",
       "      <td>0.19</td>\n",
       "      <td>1.92</td>\n",
       "      <td>1309.19</td>\n",
       "      <td>0.34</td>\n",
       "    </tr>\n",
       "    <tr>\n",
       "      <th>01.01.2009 00:50:00</th>\n",
       "      <td>996.51</td>\n",
       "      <td>-8.27</td>\n",
       "      <td>3.27</td>\n",
       "      <td>0.19</td>\n",
       "      <td>1.92</td>\n",
       "      <td>1309.00</td>\n",
       "      <td>0.32</td>\n",
       "    </tr>\n",
       "  </tbody>\n",
       "</table>\n",
       "</div>"
      ],
      "text/plain": [
       "                     p (mbar)  T (degC)  VPmax (mbar)  VPdef (mbar)  \\\n",
       "Date Time                                                             \n",
       "01.01.2009 00:10:00    996.52     -8.02          3.33          0.22   \n",
       "01.01.2009 00:20:00    996.57     -8.41          3.23          0.21   \n",
       "01.01.2009 00:30:00    996.53     -8.51          3.21          0.20   \n",
       "01.01.2009 00:40:00    996.51     -8.31          3.26          0.19   \n",
       "01.01.2009 00:50:00    996.51     -8.27          3.27          0.19   \n",
       "\n",
       "                     sh (g/kg)  rho (g/m**3)  wv (m/s)  \n",
       "Date Time                                               \n",
       "01.01.2009 00:10:00       1.94       1307.75      1.03  \n",
       "01.01.2009 00:20:00       1.89       1309.80      0.72  \n",
       "01.01.2009 00:30:00       1.88       1310.24      0.19  \n",
       "01.01.2009 00:40:00       1.92       1309.19      0.34  \n",
       "01.01.2009 00:50:00       1.92       1309.00      0.32  "
      ]
     },
     "execution_count": 9,
     "metadata": {},
     "output_type": "execute_result"
    }
   ],
   "source": [
    "features = df[[df.columns[i+1] for i in [0, 1, 5, 7, 8, 10, 11]]]\n",
    "features.index = df[\"Date Time\"]\n",
    "features.head()"
   ]
  },
  {
   "cell_type": "code",
   "execution_count": 10,
   "id": "e8e3b279-9c98-4402-b581-a9563f665d9e",
   "metadata": {},
   "outputs": [
    {
     "data": {
      "text/html": [
       "<div>\n",
       "<style scoped>\n",
       "    .dataframe tbody tr th:only-of-type {\n",
       "        vertical-align: middle;\n",
       "    }\n",
       "\n",
       "    .dataframe tbody tr th {\n",
       "        vertical-align: top;\n",
       "    }\n",
       "\n",
       "    .dataframe thead th {\n",
       "        text-align: right;\n",
       "    }\n",
       "</style>\n",
       "<table border=\"1\" class=\"dataframe\">\n",
       "  <thead>\n",
       "    <tr style=\"text-align: right;\">\n",
       "      <th></th>\n",
       "      <th>0</th>\n",
       "      <th>1</th>\n",
       "      <th>2</th>\n",
       "      <th>3</th>\n",
       "      <th>4</th>\n",
       "      <th>5</th>\n",
       "      <th>6</th>\n",
       "    </tr>\n",
       "  </thead>\n",
       "  <tbody>\n",
       "    <tr>\n",
       "      <th>0</th>\n",
       "      <td>0.951438</td>\n",
       "      <td>-2.007202</td>\n",
       "      <td>-1.325129</td>\n",
       "      <td>-0.788750</td>\n",
       "      <td>-1.505680</td>\n",
       "      <td>2.245423</td>\n",
       "      <td>-0.730788</td>\n",
       "    </tr>\n",
       "    <tr>\n",
       "      <th>1</th>\n",
       "      <td>0.957517</td>\n",
       "      <td>-2.052433</td>\n",
       "      <td>-1.338173</td>\n",
       "      <td>-0.790835</td>\n",
       "      <td>-1.524244</td>\n",
       "      <td>2.295704</td>\n",
       "      <td>-0.934113</td>\n",
       "    </tr>\n",
       "    <tr>\n",
       "      <th>2</th>\n",
       "      <td>0.952653</td>\n",
       "      <td>-2.064031</td>\n",
       "      <td>-1.340782</td>\n",
       "      <td>-0.792921</td>\n",
       "      <td>-1.527957</td>\n",
       "      <td>2.306496</td>\n",
       "      <td>-1.281733</td>\n",
       "    </tr>\n",
       "    <tr>\n",
       "      <th>3</th>\n",
       "      <td>0.950222</td>\n",
       "      <td>-2.040836</td>\n",
       "      <td>-1.334260</td>\n",
       "      <td>-0.795007</td>\n",
       "      <td>-1.513106</td>\n",
       "      <td>2.280742</td>\n",
       "      <td>-1.183350</td>\n",
       "    </tr>\n",
       "    <tr>\n",
       "      <th>4</th>\n",
       "      <td>0.950222</td>\n",
       "      <td>-2.036197</td>\n",
       "      <td>-1.332955</td>\n",
       "      <td>-0.795007</td>\n",
       "      <td>-1.513106</td>\n",
       "      <td>2.276082</td>\n",
       "      <td>-1.196468</td>\n",
       "    </tr>\n",
       "  </tbody>\n",
       "</table>\n",
       "</div>"
      ],
      "text/plain": [
       "          0         1         2         3         4         5         6\n",
       "0  0.951438 -2.007202 -1.325129 -0.788750 -1.505680  2.245423 -0.730788\n",
       "1  0.957517 -2.052433 -1.338173 -0.790835 -1.524244  2.295704 -0.934113\n",
       "2  0.952653 -2.064031 -1.340782 -0.792921 -1.527957  2.306496 -1.281733\n",
       "3  0.950222 -2.040836 -1.334260 -0.795007 -1.513106  2.280742 -1.183350\n",
       "4  0.950222 -2.036197 -1.332955 -0.795007 -1.513106  2.276082 -1.196468"
      ]
     },
     "execution_count": 10,
     "metadata": {},
     "output_type": "execute_result"
    }
   ],
   "source": [
    "features = Normalize(features.values, train_fraction)\n",
    "features = pd.DataFrame(features)\n",
    "features.head()"
   ]
  },
  {
   "cell_type": "code",
   "execution_count": 11,
   "id": "9584b710-71ce-44e1-99f1-7368b09a596d",
   "metadata": {},
   "outputs": [],
   "source": [
    "X_train = features.loc[:train_fraction-1]\n",
    "X_valid = features.loc[train_fraction:]\n",
    "\n",
    "X_train = X_train[range(7)].values\n",
    "y_train = np.array(features.iloc[792: 792 + train_fraction][[1]])"
   ]
  },
  {
   "cell_type": "markdown",
   "id": "d91ac0a0-8e24-41c6-bf8b-a88922dcb8b1",
   "metadata": {},
   "source": [
    "### Validation Dataset"
   ]
  },
  {
   "cell_type": "code",
   "execution_count": 12,
   "id": "01b01fc7-afb8-4057-b56c-04e3298f5ecb",
   "metadata": {},
   "outputs": [],
   "source": [
    "valid_end = len(X_valid) - 792\n",
    "valid_start = train_fraction + 792"
   ]
  },
  {
   "cell_type": "code",
   "execution_count": 13,
   "id": "5755ee4e-ab7b-4d61-873a-b997f50d4db7",
   "metadata": {},
   "outputs": [],
   "source": [
    "X_valid = X_valid.iloc[:valid_end][range(7)].values\n",
    "y_valid = np.array(features.iloc[valid_start:][[1]])"
   ]
  },
  {
   "cell_type": "markdown",
   "id": "f8a9fe4f-8276-425c-860b-14c9d817a96a",
   "metadata": {},
   "source": [
    "### PyTorch Dataset"
   ]
  },
  {
   "cell_type": "code",
   "execution_count": 14,
   "id": "07975c4e-5140-4d03-8fdf-6e93349aefc6",
   "metadata": {},
   "outputs": [],
   "source": [
    "class TimeseriesDataset(Dataset):\n",
    "    def __init__(self, X, y, sequence_length: int=240, sampling_rate: int=6):\n",
    "        self.X = torch.Tensor(X)\n",
    "        self.y = torch.Tensor(y)\n",
    "        self.sequence_length = sequence_length\n",
    "        self.sampling_rate = sampling_rate\n",
    "        self.indices = [i for i in range(0, self.X.shape[0] - self.sequence_length, self.sampling_rate)]\n",
    "\n",
    "    def __len__(self) -> int:\n",
    "        return len(self.indices)\n",
    "\n",
    "    def __getitem__(self, idx: int):\n",
    "        start_idx = self.indices[idx]\n",
    "        end_idx = start_idx + self.sequence_length\n",
    "        return self.X[start_idx:end_idx], self.y[end_idx-1]"
   ]
  },
  {
   "cell_type": "code",
   "execution_count": 15,
   "id": "8dae3e47-a862-4bea-9eeb-f2f2aa4d62af",
   "metadata": {},
   "outputs": [],
   "source": [
    "WeatherDataset = TimeseriesDataset(X_train, y_train)"
   ]
  },
  {
   "cell_type": "code",
   "execution_count": 16,
   "id": "2e80329d-434f-4330-b1da-d46432cde50e",
   "metadata": {},
   "outputs": [
    {
     "name": "stdout",
     "output_type": "stream",
     "text": [
      "Length of dataset, 50426\n"
     ]
    }
   ],
   "source": [
    "print(f\"Length of dataset, {len(WeatherDataset)}\")"
   ]
  },
  {
   "cell_type": "code",
   "execution_count": 17,
   "id": "1cebb82b-5001-4e1c-b7b6-18662309bca1",
   "metadata": {},
   "outputs": [],
   "source": [
    "WeatherLoader = DataLoader(WeatherDataset, batch_size=256, shuffle=False)"
   ]
  },
  {
   "cell_type": "code",
   "execution_count": 18,
   "id": "03621793-bbd9-4781-93eb-6439af978778",
   "metadata": {},
   "outputs": [
    {
     "name": "stdout",
     "output_type": "stream",
     "text": [
      "torch.Size([256, 240, 7]) torch.Size([256, 1])\n"
     ]
    }
   ],
   "source": [
    "for batch in WeatherLoader:\n",
    "    X_batch, y_batch = batch\n",
    "    print(X_batch.shape, y_batch.shape)\n",
    "    break"
   ]
  },
  {
   "cell_type": "code",
   "execution_count": 19,
   "id": "3cd3c040-13a5-4df0-a0c4-0502ed958172",
   "metadata": {},
   "outputs": [],
   "source": [
    "ValidDataset = TimeseriesDataset(X_valid, y_valid)"
   ]
  },
  {
   "cell_type": "code",
   "execution_count": 20,
   "id": "abc1df14-395f-4fcf-8dc9-1cad9abb65c5",
   "metadata": {},
   "outputs": [
    {
     "name": "stdout",
     "output_type": "stream",
     "text": [
      "Length of validation dataset, 19454\n"
     ]
    }
   ],
   "source": [
    "print(f\"Length of validation dataset, {len(ValidDataset)}\")"
   ]
  },
  {
   "cell_type": "code",
   "execution_count": 21,
   "id": "01513f44-9a3c-4d57-a60f-2228e916bffb",
   "metadata": {},
   "outputs": [],
   "source": [
    "ValidLoader = DataLoader(ValidDataset, batch_size=256, shuffle=False)"
   ]
  },
  {
   "cell_type": "markdown",
   "id": "74022d27-764f-461a-ba46-7b15f7bae62a",
   "metadata": {},
   "source": [
    "## Basic LSTM Model\n"
   ]
  },
  {
   "cell_type": "markdown",
   "id": "7288d56b-e00f-4ea0-ba73-262df2207436",
   "metadata": {},
   "source": [
    "Simple LSTM Model that we are going to compare to the QuLTSF Model"
   ]
  },
  {
   "cell_type": "code",
   "execution_count": 69,
   "id": "7166c7ac-ed2c-42ee-9980-fa433ca705cb",
   "metadata": {},
   "outputs": [],
   "source": [
    "class LSTMModel(nn.Module):\n",
    "    def __init__(\n",
    "        self,\n",
    "        lookback_window_size,\n",
    "        forecast_window_size,\n",
    "        hidden_size\n",
    "    ):\n",
    "        super(LSTMModel, self).__init__()\n",
    "        self.lookback_window_size = lookback_window_size\n",
    "        self.forecast_window_size = forecast_window_size\n",
    "\n",
    "        self.input_layer = nn.Linear(lookback_window_size, hidden_size)\n",
    "        self.c_layer = nn.LSTM(hidden_size, 7)\n",
    "        self.output_layer = nn.Linear(7, forecast_window_size)\n",
    "\n",
    "    def forward(self, batch_input):\n",
    "        x = batch_input.permute(0, 2, 1)\n",
    "        x = self.input_layer(x)\n",
    "        x, (_, _) = self.c_layer(x)\n",
    "        x = F.adaptive_avg_pool1d(x, output_size=1).squeeze(-1)\n",
    "        x = self.output_layer(x)\n",
    "        return x"
   ]
  },
  {
   "cell_type": "code",
   "execution_count": 70,
   "id": "d8e9e83f-83e4-473c-9a06-face6bf06291",
   "metadata": {},
   "outputs": [
    {
     "data": {
      "text/plain": [
       "LSTMModel(\n",
       "  (input_layer): Linear(in_features=240, out_features=64, bias=True)\n",
       "  (c_layer): LSTM(64, 7)\n",
       "  (output_layer): Linear(in_features=7, out_features=1, bias=True)\n",
       ")"
      ]
     },
     "execution_count": 70,
     "metadata": {},
     "output_type": "execute_result"
    }
   ],
   "source": [
    "Milner = LSTMModel(\n",
    "    lookback_window_size = 240,\n",
    "    forecast_window_size = 1,\n",
    "    hidden_size = 64,\n",
    ")\n",
    "\n",
    "Milner"
   ]
  },
  {
   "cell_type": "markdown",
   "id": "434fcfa8-8c16-4b3e-afea-428623901b3e",
   "metadata": {},
   "source": [
    "## Training the Model"
   ]
  },
  {
   "cell_type": "code",
   "execution_count": 71,
   "id": "22100074-328d-4823-9a37-673a980f9876",
   "metadata": {},
   "outputs": [],
   "source": [
    "import timeit"
   ]
  },
  {
   "cell_type": "code",
   "execution_count": 72,
   "id": "cdc027c4-6e76-4dd5-9f0c-0c905b753d37",
   "metadata": {},
   "outputs": [],
   "source": [
    "class EarlyStopping:\n",
    "    def __init__(self):\n",
    "        self.patience = 5\n",
    "        self.mindelta = 1e-4\n",
    "        self.best_loss = float('inf')\n",
    "        self.counter = 0\n",
    "\n",
    "    def __call__(self, val_loss):\n",
    "        if val_loss < self.best_loss:\n",
    "            self.best_loss = val_loss\n",
    "            self.counter = 0\n",
    "        else:\n",
    "            self.counter += 1\n",
    "\n",
    "        return self.counter >= self.patience"
   ]
  },
  {
   "cell_type": "code",
   "execution_count": 73,
   "id": "ae4a1250-ffca-4ccc-ae8c-a84dc3887706",
   "metadata": {},
   "outputs": [],
   "source": [
    "optimizer = Adam(Milner.parameters(), lr=1e-4)\n",
    "\n",
    "scheduler = lr_scheduler.ReduceLROnPlateau(optimizer, patience=3)\n",
    "\n",
    "loss_fn = nn.HuberLoss(delta=1.5)\n",
    "#loss_fn = nn.MSELoss()\n",
    "\n",
    "early_stopping = EarlyStopping()"
   ]
  },
  {
   "cell_type": "code",
   "execution_count": 74,
   "id": "6017cc2b-daf0-4d0c-b31e-6d25dbf31d5c",
   "metadata": {},
   "outputs": [],
   "source": [
    "EPOCHS = 50\n",
    "\n",
    "TRAIN_LOSS_LIST = []\n",
    "VAL_LOSS_LIST = []"
   ]
  },
  {
   "cell_type": "code",
   "execution_count": 75,
   "id": "1b768a74-c6d1-4f0a-9d3c-461f1df2ebbc",
   "metadata": {},
   "outputs": [
    {
     "name": "stdout",
     "output_type": "stream",
     "text": [
      "Epoch [5/50] (3.675s), Train Loss: 0.2665, Val Loss: 0.2337, LR: 0.000100\n",
      "Epoch [10/50] (3.698s), Train Loss: 0.2120, Val Loss: 0.1927, LR: 0.000100\n",
      "Epoch [15/50] (3.712s), Train Loss: 0.1860, Val Loss: 0.1781, LR: 0.000100\n",
      "Epoch [20/50] (3.765s), Train Loss: 0.1764, Val Loss: 0.1729, LR: 0.000100\n",
      "Epoch [25/50] (3.691s), Train Loss: 0.1708, Val Loss: 0.1713, LR: 0.000100\n",
      "Epoch [30/50] (3.683s), Train Loss: 0.1692, Val Loss: 0.1750, LR: 0.000100\n",
      "Epoch [35/50] (3.737s), Train Loss: 0.1639, Val Loss: 0.1687, LR: 0.000010\n",
      "Early Stopping: Training Ended\n"
     ]
    }
   ],
   "source": [
    "for epoch in range(EPOCHS):\n",
    "    start = timeit.default_timer()\n",
    "    train_Loss = 0.0\n",
    "    \n",
    "    for step, (X_batch, y_batch) in enumerate(WeatherLoader):\n",
    "        logits = Milner(X_batch)\n",
    "        loss = loss_fn(logits, y_batch)\n",
    "        Milner.zero_grad()\n",
    "        loss.backward()\n",
    "        optimizer.step()\n",
    "        train_Loss += loss.item()\n",
    "\n",
    "    train_Loss /= (step+1)\n",
    "    TRAIN_LOSS_LIST.append(train_Loss)\n",
    "    Milner.eval()\n",
    "\n",
    "    val_Loss = 0.0\n",
    "    with torch.no_grad():\n",
    "        for step, (X_batch, y_batch) in enumerate(ValidLoader):\n",
    "            logits = Milner(X_batch)\n",
    "            loss = loss_fn(logits, y_batch)\n",
    "            val_Loss += loss.item()\n",
    "\n",
    "    val_Loss /= (step + 1)\n",
    "    VAL_LOSS_LIST.append(val_Loss)\n",
    "    scheduler.step(val_Loss)\n",
    "\n",
    "    end = timeit.default_timer()\n",
    "\n",
    "    if not ((epoch+1) % 5):\n",
    "        print(f\"Epoch [{epoch+1}/{EPOCHS}] ({end-start:.3f}s), Train Loss: {train_Loss:.4f}, Val Loss: {val_Loss:.4f}, LR: {optimizer.param_groups[0]['lr']:.6f}\")\n",
    "\n",
    "    if early_stopping(val_Loss):\n",
    "        print(\"Early Stopping: Training Ended\")\n",
    "        break"
   ]
  },
  {
   "cell_type": "markdown",
   "id": "e639ae9d-3d62-4565-ad3c-82316b85f4f1",
   "metadata": {},
   "source": [
    "Plot a graph of loss."
   ]
  },
  {
   "cell_type": "code",
   "execution_count": 76,
   "id": "8a3b0c31-91b2-4592-93be-db5445a6af2c",
   "metadata": {},
   "outputs": [
    {
     "data": {
      "image/png": "[encoded data removed]",
      "text/plain": [
       "<Figure size 640x480 with 1 Axes>"
      ]
     },
     "metadata": {},
     "output_type": "display_data"
    }
   ],
   "source": [
    "plt.figure()\n",
    "plt.plot(range(len(TRAIN_LOSS_LIST)), TRAIN_LOSS_LIST, \"b\", label=\"Training Loss\")\n",
    "plt.plot(range(len(VAL_LOSS_LIST)), VAL_LOSS_LIST, \"r\", label=\"Validation Loss\")\n",
    "plt.title(\"Training and Validation Loss\")\n",
    "plt.xlabel(\"Epochs\")\n",
    "plt.ylabel(\"Loss\")\n",
    "plt.legend()\n",
    "plt.show()"
   ]
  },
  {
   "cell_type": "code",
   "execution_count": 77,
   "id": "93cfe535-5202-426c-8fb7-b8a48026ffd2",
   "metadata": {},
   "outputs": [],
   "source": [
    "def show_plot(plot_data, delta, title):\n",
    "    plt.figure(figsize=(6, 3))\n",
    "    \n",
    "    labels = [\"History\", \"True Future\", \"Model Prediction\"]\n",
    "    marker = [\".-\", \"rx\", \"go\"]\n",
    "    time_steps = list(range(-(plot_data[0].shape[0]), 0))\n",
    "    if delta: future = delta\n",
    "    else: future = 0\n",
    "\n",
    "    for i, val in enumerate(plot_data):\n",
    "        if i: plt.plot(future, plot_data[i], marker[i], markersize=10, label=labels[i])\n",
    "        else: plt.plot(time_steps, plot_data[i].flatten(), marker[i], label=labels[i])\n",
    "    plt.legend()\n",
    "    plt.xlim([time_steps[0], (future + 5) * 2])\n",
    "    plt.xlabel(\"Time-Step\")\n",
    "\n",
    "    prediction_last = plot_data[2][-1]  # Model prediction at the last timestep\n",
    "    actual_last = plot_data[1][-1]      # True value at the last timestep\n",
    "    difference = prediction_last - actual_last  # Difference between prediction and actual value\n",
    "\n",
    "    plt.title(title + f'\\nDifference: {difference:.6f}')\n",
    "    plt.show()\n",
    "    return "
   ]
  },
  {
   "cell_type": "code",
   "execution_count": 80,
   "id": "d2a9bb63-bcda-4a16-96b4-439063ee6f4a",
   "metadata": {},
   "outputs": [
    {
     "data": {
      "image/png": "[encoded data removed]",
      "text/plain": [
       "<Figure size 600x300 with 1 Axes>"
      ]
     },
     "metadata": {},
     "output_type": "display_data"
    },
    {
     "data": {
      "image/png": "[encoded data removed]",
      "text/plain": [
       "<Figure size 600x300 with 1 Axes>"
      ]
     },
     "metadata": {},
     "output_type": "display_data"
    },
    {
     "data": {
      "image/png": "[encoded data removed]",
      "text/plain": [
       "<Figure size 600x300 with 1 Axes>"
      ]
     },
     "metadata": {},
     "output_type": "display_data"
    }
   ],
   "source": [
    "examples = 3\n",
    "\n",
    "for X_batch, y_batch in ValidLoader:\n",
    "    Milner.eval()\n",
    "    with torch.no_grad():\n",
    "        predictions = Milner(X_batch)\n",
    "\n",
    "    if np.random.random() >= 0.95:\n",
    "        examples -= 1\n",
    "    \n",
    "        show_plot(\n",
    "            [X_batch[0][:, 1].numpy(), y_batch[0].numpy(), predictions[0]],\n",
    "            delta = 12,\n",
    "            title = f\"Single Step Prediction:\"\n",
    "        )\n",
    "\n",
    "    if not examples: break"
   ]
  },
  {
   "cell_type": "code",
   "execution_count": null,
   "id": "4652f35b-4925-4f24-ac9c-4486ab56c120",
   "metadata": {},
   "outputs": [],
   "source": []
  }
 ],
 "metadata": {
  "kernelspec": {
   "display_name": "Python 3 (ipykernel)",
   "language": "python",
   "name": "python3"
  },
  "language_info": {
   "codemirror_mode": {
    "name": "ipython",
    "version": 3
   },
   "file_extension": ".py",
   "mimetype": "text/x-python",
   "name": "python",
   "nbconvert_exporter": "python",
   "pygments_lexer": "ipython3",
   "version": "3.10.14"
  }
 },
 "nbformat": 4,
 "nbformat_minor": 5
}
